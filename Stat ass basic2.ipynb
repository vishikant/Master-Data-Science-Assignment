{
 "cells": [
  {
   "cell_type": "code",
   "execution_count": null,
   "id": "ab0ad928-ec9f-4781-9ba0-1077bb9d080e",
   "metadata": {},
   "outputs": [],
   "source": [
    "#Q1. What are the three measures of central tendency?\n",
    "#Q2. What is the difference between the mean, median, and mode? How are they used to measure the\n",
    "central tendency of a dataset?\n",
    "Mean: The average of all values, calculated by summing the values and dividing by the number of observations. \n",
    "The mean is useful for datasets without extreme outliers and provides a general sense of the data’s center. \n",
    "Example: The mean income of a group of people gives an idea of their overall earning levels.\n",
    "    \n",
    "Median: The middle value in an ordered dataset, splitting it into two equal halves. The median is helpful when the data is skewed \n",
    "or contains outliers, as it is not affected by extreme values. Example: The median home price offers a better sense of typical home \n",
    "prices in an area with very expensive properties.\n",
    "\n",
    "Mode: The value that appears most frequently in a dataset. It is useful for identifying the most common category or value. \n",
    "Example: In a class, the most common test score can be found using the mode."
   ]
  },
  {
   "cell_type": "code",
   "execution_count": null,
   "id": "48223feb-3897-4512-b1c7-7d2efbecd4e0",
   "metadata": {},
   "outputs": [],
   "source": [
    "#Q3. Measure the three measures of central tendency for the given height data:\n",
    "[178,177,176,177,178.2,178,175,179,180,175,178.9,176.2,177,172.5,178,176.5]\n",
    "The three measures of central tendency for the given height data are:\n",
    "\n",
    "- **Mean**: 177.02 cm\n",
    "- **Median**: 177.0 cm\n",
    "- **Mode**: 177 cm"
   ]
  },
  {
   "cell_type": "code",
   "execution_count": null,
   "id": "e8a04e1f-cccc-4193-968f-b710d18e4e29",
   "metadata": {},
   "outputs": [],
   "source": [
    "#Q4. Find the standard deviation for the given data:\n",
    "[178,177,176,177,178.2,178,175,179,180,175,178.9,176.2,177,172.5,178,176.5]\n",
    "The standard deviation for the given height data is approximately **1.79 cm**. This indicates that the heights tend to deviate by about \n",
    "1.79 cm from he mean value."
   ]
  },
  {
   "cell_type": "code",
   "execution_count": null,
   "id": "240fac8f-8fef-4a4e-9552-7670d711b74b",
   "metadata": {},
   "outputs": [],
   "source": [
    "#Q5. How are measures of dispersion such as range, variance, and standard deviation used to describe\n",
    "#the spread of a dataset? Provide an example.\n",
    "Measures of dispersion, such as **range**, **variance**, and **standard deviation**, describe the spread of a dataset, providing insight into variability and distribution.\n",
    "\n",
    "- **Range**: The difference between the maximum and minimum values, indicating the total spread.\n",
    "  **Example**: For heights of [170, 180], the range is 10 cm.\n",
    "\n",
    "- **Variance**: The average of the squared differences from the mean, reflecting how data points vary from the average.\n",
    "  \n",
    "- **Standard Deviation**: The square root of variance, presenting dispersion in the same units as the data.\n",
    "  **Example**: In a dataset of exam scores, a low standard deviation suggests scores are close to the mean, while a high standard deviation indicates a wide spread of scores."
   ]
  },
  {
   "cell_type": "code",
   "execution_count": null,
   "id": "a8c2443c-392c-44ae-9932-86e1f58820e4",
   "metadata": {},
   "outputs": [],
   "source": [
    "Q6. What is a Venn diagram?\n",
    "A **Venn diagram** is a visual representation used to illustrate the relationships between different sets. It consists of overlapping \n",
    "circles, each representing a set. The areas where the circles overlap indicate common elements shared between the sets, while the \n",
    "non-overlapping sections represent unique elements specific to each set. Venn diagrams are commonly used in mathematics, logic, statistics, \n",
    "and various fields to simplify complex relationships, compare similarities and differences, and demonstrate intersections among groups. \n",
    "For example, in a Venn diagram with circles for \"Cats\" and \"Pets,\" the overlapping area would represent cats that are pets."
   ]
  },
  {
   "cell_type": "code",
   "execution_count": null,
   "id": "eb01fef0-a44c-4fbf-b454-19215a348201",
   "metadata": {},
   "outputs": [],
   "source": [
    "#Q7. For the two given sets A = (2,3,4,5,6,7) & B = (0,2,6,8,10). Find:\n",
    "(i) A B\n",
    "(ii) A ⋃ B\n",
    "For the given sets \\( A = \\{2, 3, 4, 5, 6, 7\\} \\) and \\( B = \\{0, 2, 6, 8, 10\\} \\):\n",
    "\n",
    "(i) The intersection \\( A \\cap B \\) is \\( \\{2, 6\\} \\).  \n",
    "(ii) The union \\( A \\cup B \\) is \\( \\{0, 2, 3, 4, 5, 6, 7, 8, 10\\} \\). "
   ]
  },
  {
   "cell_type": "code",
   "execution_count": null,
   "id": "f3564217-22f0-4684-945c-8c4a2c13f990",
   "metadata": {},
   "outputs": [],
   "source": [
    "#Q8. What do you understand about skewness in data?\n",
    "#Q9. If a data is right skewed then what will be the position of median with respect to mean?\n",
    "**Skewness** refers to the asymmetry of a data distribution, indicating whether the data values are spread out more on one side than the other. It helps assess the shape of the distribution relative to the mean. \n",
    "\n",
    "- **Positive Skewness**: The tail on the right side (higher values) is longer or fatter, indicating that most data points are concentrated on the left. \n",
    "- **Negative Skewness**: The tail on the left side (lower values) is longer or fatter, suggesting that most data points are concentrated on the right.\n",
    "\n",
    "Skewness is quantified using statistical measures, with a skewness value of zero indicating a symmetrical distribution. Understanding skewness aids in data analysis and the selection of appropriate statistical methods."
   ]
  },
  {
   "cell_type": "code",
   "execution_count": null,
   "id": "0d14c98c-a16d-4174-9309-de7938b4007e",
   "metadata": {},
   "outputs": [],
   "source": [
    "# Q10. Explain the difference between covariance and correlation. How are these measures used in\n",
    "# statistical analysis?\n",
    "#Q13. How is covariance different from correlation?\n",
    "**Covariance** and **correlation** are both measures that describe the relationship between two variables, but they differ in interpretation and scale. \n",
    "\n",
    "- **Covariance** indicates the direction of the linear relationship between two variables. A positive covariance suggests that as one v\n",
    "ariable increases, the other also tends to increase, while a negative covariance indicates the opposite. However, covariance is not \n",
    "standardized, making it difficult to interpret its magnitude.\n",
    "\n",
    "- **Correlation**, specifically the Pearson correlation coefficient, standardizes covariance by dividing it by the product of the standard \n",
    "deviations of the two variables. This yields a value between -1 and 1, indicating both the strength and direction of the relationship.\n",
    "\n",
    "Both measures are used in statistical analysis to explore relationships, assess the strength of associations, and inform regression modeling. Correlation is often preferred for its interpretability."
   ]
  },
  {
   "cell_type": "code",
   "execution_count": null,
   "id": "e55a7853-b735-42ff-a980-5b413a1c9a5e",
   "metadata": {},
   "outputs": [],
   "source": [
    "#Q11. What is the formula for calculating the sample mean? Provide an example calculation for adataset.\n",
    "The **sample mean** is calculated using the formula:\n",
    "\n",
    "\\[\n",
    "\\bar{x} = \\frac{\\sum_{i=1}^{n} x_i}{n}\n",
    "\\]\n",
    "\n",
    "where:\n",
    "- \\(\\bar{x}\\) is the sample mean,\n",
    "- \\(x_i\\) represents each value in the dataset,\n",
    "- \\(n\\) is the number of observations in the sample.\n",
    "\n",
    "**Example Calculation**:\n",
    "\n",
    "For the dataset: \\([5, 8, 12, 15, 20]\\):\n",
    "\n",
    "1. Sum of the values: \\(5 + 8 + 12 + 15 + 20 = 60\\)\n",
    "2. Number of observations: \\(n = 5\\)\n",
    "\n",
    "Now, applying the formula:\n",
    "\n",
    "\\[\n",
    "\\bar{x} = \\frac{60}{5} = 12\n",
    "\\]\n",
    "\n",
    "Thus, the sample mean is **12**."
   ]
  }
 ],
 "metadata": {
  "kernelspec": {
   "display_name": "Python 3 (ipykernel)",
   "language": "python",
   "name": "python3"
  },
  "language_info": {
   "codemirror_mode": {
    "name": "ipython",
    "version": 3
   },
   "file_extension": ".py",
   "mimetype": "text/x-python",
   "name": "python",
   "nbconvert_exporter": "python",
   "pygments_lexer": "ipython3",
   "version": "3.12.4"
  }
 },
 "nbformat": 4,
 "nbformat_minor": 5
}
