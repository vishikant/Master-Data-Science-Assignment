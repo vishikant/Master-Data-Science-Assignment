{
 "cells": [
  {
   "cell_type": "code",
   "execution_count": null,
   "id": "a65a8db6-f6ae-40a6-8048-3b4b1f3fd3bf",
   "metadata": {},
   "outputs": [],
   "source": [
    "#Q1. What is Statistics?\n",
    "Statistics is a science of collecting,organising and analysing of data"
   ]
  },
  {
   "cell_type": "code",
   "execution_count": null,
   "id": "90c6f074-03b8-45be-a252-1f2a89e67b39",
   "metadata": {},
   "outputs": [],
   "source": [
    "#Q2. Define the different types of statistics and give an example of when each type might be used.\n",
    "Statistics can be divided into two main types: **descriptive statistics** and **inferential statistics**.\n",
    "\n",
    "1. **Descriptive Statistics** summarize and describe the main features of a dataset. They provide simple summaries about the sample and the\n",
    "    measures within it, often using metrics such as mean, median, mode (measures of central tendency), and standard deviation or range\n",
    "    (measures of variability). These statistics help in organizing and understanding the data but do not allow us to make conclusions beyond the\n",
    "    dataset itself.  \n",
    "   **Example**: A company analyzing employee performance might calculate the average sales per employee and the range of sales across the \n",
    "    team.\n",
    "\n",
    "2. **Inferential Statistics** go beyond the immediate data, allowing conclusions or predictions about a larger population based on a sample.\n",
    "    These include techniques like hypothesis testing, regression analysis, and confidence intervals. The goal is to infer characteristics or \n",
    "    relationships in a population from the sample data, often with a focus on assessing the reliability of the findings.\n",
    "   **Example**: A pharmaceutical company testing a new drug on a sample of patients uses inferential statistics to generalize whether the \n",
    "    drug would be effective for the entire population with the same condition.\n",
    "\n",
    "Descriptive statistics summarize data, while inferential statistics make predictions or conclusions based on it."
   ]
  },
  {
   "cell_type": "code",
   "execution_count": null,
   "id": "c2cdd2ea-d0d5-4a26-9c9c-2200b18ba0b7",
   "metadata": {},
   "outputs": [],
   "source": [
    "#Q3. What are the different types of data and how do they differ from each other? Provide an example ofeach type of data.\n",
    "Data can be classified into **four main types**: nominal, ordinal, interval, and ratio. These types differ in terms of their properties \n",
    "and the kinds of analysis that can be applied.\n",
    "\n",
    "1. **Nominal Data**: This is categorical data without a natural order. It represents labels or names that identify categories but do not\n",
    "    carry numerical significance.\n",
    "   **Example**: Gender (male, female) or types of cars (SUV, sedan, truck).\n",
    "\n",
    "2. **Ordinal Data**: Ordinal data represent categories that have a meaningful order or ranking, but the intervals between values are not\n",
    "    equal or defined.\n",
    "   **Example**: Customer satisfaction ratings (e.g., \"very satisfied,\" \"satisfied,\" \"neutral,\" \"dissatisfied\").\n",
    "\n",
    "3. **Interval Data**: Interval data are numerical and have meaningful differences between values, but there is no true zero point, making it\n",
    "    impossible to calculate true ratios.\n",
    "   **Example**: Temperature in Celsius or Fahrenheit, where the difference between degrees is meaningful, but zero doesn't represent a \n",
    "    complete absence of temperature.\n",
    "\n",
    "4. **Ratio Data**: Ratio data have all the properties of interval data, but with a true zero point, allowing for the calculation of ratios.\n",
    "   **Example**: Height, weight, or time, where zero means none, and meaningful comparisons (like \"twice as much\") can be made.\n",
    "\n",
    "These data types differ in terms of how they can be measured, analyzed, and interpreted in various statistical applications."
   ]
  },
  {
   "cell_type": "code",
   "execution_count": null,
   "id": "f7c534ff-71ba-4b13-8b43-009121668593",
   "metadata": {},
   "outputs": [],
   "source": [
    "# Q4. Categorise the following datasets with respect to quantitative and qualitative data types:\n",
    "# (i) Grading in exam: A+, A, B+, B, C+, C, D, E\n",
    "# (ii) Colour of mangoes: yellow, green, orange, red\n",
    "# (iii) Height data of a class: [178.9, 179, 179.5, 176, 177.2, 178.3, 175.8,...]\n",
    "# (iv) Number of mangoes exported by a farm: [500, 600, 478, 672, ...]\n",
    "Here’s how the datasets can be categorized into **quantitative** and **qualitative** data types:\n",
    "\n",
    "1. **Grading in exam (A+, A, B+, B, C+, C, D, E)**:  \n",
    "   - **Qualitative (Ordinal)** data: The grades represent a ranking or order, but they are not numerical.\n",
    "\n",
    "2. **Colour of mangoes (yellow, green, orange, red)**:  \n",
    "   - **Qualitative (Nominal)** data: The colors represent categories with no inherent order.\n",
    "\n",
    "3. **Height data of a class \\([178.9, 179, 179.5, 176, 177.2, 178.3, 175.8,...]\\)**:  \n",
    "   - **Quantitative (Continuous)** data: The height values are numerical and measurable with infinite possible values within a range.\n",
    "\n",
    "4. **Number of mangoes exported by a farm \\([500, 600, 478, 672,...]\\)**:  \n",
    "   - **Quantitative (Discrete)** data: The number of mangoes is countable and represented by whole numbers.\n",
    "\n"
   ]
  },
  {
   "cell_type": "code",
   "execution_count": null,
   "id": "a11d0789-2663-4e92-98b1-a089b094e98d",
   "metadata": {},
   "outputs": [],
   "source": [
    "#Q5. Explain the concept of levels of measurement and give an example of a variable for each level.\n",
    "#Q6. Why is it important to understand the level of measurement when analyzing data? Provide anexample to illustrate your answer.\n",
    "**Levels of measurement** refer to the ways in which data can be classified and measured. There are four main levels: nominal, ordinal, interval, and ratio. Each level provides a different degree of information about the variables.\n",
    "\n",
    "1. **Nominal Level**: This is the simplest level, where data are categorized without a specific order. Variables are grouped into distinct categories, but no ranking or quantitative value is implied.\n",
    "   **Example**: Types of animals (dog, cat, bird).\n",
    "\n",
    "2. **Ordinal Level**: This level involves ordered categories, where the relative ranking of variables matters, but the differences between categories are not precisely measurable.\n",
    "   **Example**: Movie ratings (excellent, good, average, poor).\n",
    "\n",
    "3. **Interval Level**: Interval data have meaningful, measurable differences between values, but there is no true zero point, making it impossible to express ratios.\n",
    "   **Example**: Temperature in Celsius, where 0°C does not indicate a complete absence of heat.\n",
    "\n",
    "4. **Ratio Level**: Ratio data have all the characteristics of interval data, with the added feature of a true zero point, allowing for meaningful comparisons and ratios.\n",
    "   **Example**: Weight of objects, where zero represents the absence of weight, and you can say something weighs twice as much as something else.\n"
   ]
  },
  {
   "cell_type": "code",
   "execution_count": null,
   "id": "8a3b9176-dbc6-4019-b34c-c147193bc0f9",
   "metadata": {},
   "outputs": [],
   "source": [
    "#Q7. How nominal data type is different from ordinal data type.\n",
    "Nominal and ordinal data are both types of qualitative data, but they differ in how they categorize information:\n",
    "\n",
    "- **Nominal Data**: Represents categories with no inherent order or ranking. The labels are merely names or classifications.\n",
    "  **Example**: Eye color (blue, green, brown).\n",
    "\n",
    "- **Ordinal Data**: Represents categories that have a meaningful order or ranking, but the intervals between categories are not equal or defined.\n",
    "  **Example**: Education level (high school, bachelor's, master's, PhD)."
   ]
  },
  {
   "cell_type": "code",
   "execution_count": null,
   "id": "02cac314-db9e-42ef-8c74-aeabf91d9312",
   "metadata": {},
   "outputs": [],
   "source": [
    "#Q8. Which type of plot can be used to display data in terms of range?\n",
    "A **box plot** (also known as a box-and-whisker plot) is ideal for displaying data in terms of range. It visually represents the spread\n",
    "and distribution of data, showing the minimum, maximum, median, and quartiles (25th and 75th percentiles). The whiskers extend to the \n",
    "smallest and largest values within a defined range, while the \"box\" captures the interquartile range (IQR). This plot is useful for \n",
    "identifying outliers and comparing the spread of data across different datasets. It provides a clear visual summary of the range and\n",
    "variability in the data."
   ]
  },
  {
   "cell_type": "code",
   "execution_count": null,
   "id": "2108472a-42fe-48d1-adc0-1231d5735fde",
   "metadata": {},
   "outputs": [],
   "source": [
    "#Q9. Describe the difference between descriptive and inferential statistics. Give an example of each\n",
    "#type of statistics and explain how they are used.\n",
    "#Q2. Define the different types of statistics and give an example of when each type might be used.\n",
    "Statistics can be divided into two main types: **descriptive statistics** and **inferential statistics**.\n",
    "\n",
    "1. **Descriptive Statistics** summarize and describe the main features of a dataset. They provide simple summaries about the sample and the\n",
    "    measures within it, often using metrics such as mean, median, mode (measures of central tendency), and standard deviation or range\n",
    "    (measures of variability). These statistics help in organizing and understanding the data but do not allow us to make conclusions beyond the\n",
    "    dataset itself.  \n",
    "   **Example**: A company analyzing employee performance might calculate the average sales per employee and the range of sales across the \n",
    "    team.\n",
    "\n",
    "2. **Inferential Statistics** go beyond the immediate data, allowing conclusions or predictions about a larger population based on a sample.\n",
    "    These include techniques like hypothesis testing, regression analysis, and confidence intervals. The goal is to infer characteristics or \n",
    "    relationships in a population from the sample data, often with a focus on assessing the reliability of the findings.\n",
    "   **Example**: A pharmaceutical company testing a new drug on a sample of patients uses inferential statistics to generalize whether the \n",
    "    drug would be effective for the entire population with the same condition.\n",
    "\n",
    "Descriptive statistics summarize data, while inferential statistics make predictions or conclusions based on it."
   ]
  },
  {
   "cell_type": "code",
   "execution_count": null,
   "id": "491a6696-dbe3-4bdb-b17c-aab3445d6848",
   "metadata": {},
   "outputs": [],
   "source": [
    "#Q10. What are some common measures of central tendency and variability used in statistics? Explain\n",
    "#how each measure can be used to describe a dataset.\n"
   ]
  }
 ],
 "metadata": {
  "kernelspec": {
   "display_name": "Python 3 (ipykernel)",
   "language": "python",
   "name": "python3"
  },
  "language_info": {
   "codemirror_mode": {
    "name": "ipython",
    "version": 3
   },
   "file_extension": ".py",
   "mimetype": "text/x-python",
   "name": "python",
   "nbconvert_exporter": "python",
   "pygments_lexer": "ipython3",
   "version": "3.12.4"
  }
 },
 "nbformat": 4,
 "nbformat_minor": 5
}
