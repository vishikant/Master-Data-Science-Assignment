{
 "cells": [
  {
   "cell_type": "code",
   "execution_count": null,
   "id": "31813d0a-59d9-4745-ae01-ef983957573c",
   "metadata": {},
   "outputs": [],
   "source": [
    "### Q1. What is anomaly detection and what is its purpose?\n",
    "Anomaly detection identifies rare items, events, or observations that differ significantly from the majority of data. Its purpose is to detect fraudulent activity, network intrusions, system failures, or other significant deviations, helping organizations maintain security and operational efficiency.\n",
    "\n",
    "### Q2. What are the key challenges in anomaly detection?\n",
    "Key challenges include determining what constitutes an anomaly, managing high-dimensional data, dealing with class imbalance, ensuring scalability, selecting appropriate features, and minimizing false positives while maximizing detection accuracy.\n",
    "\n",
    "### Q3. How does unsupervised anomaly detection differ from supervised anomaly detection?\n",
    "Unsupervised anomaly detection does not require labeled data, relying on patterns and structures in the data to identify anomalies. In contrast, supervised anomaly detection uses labeled datasets where anomalies are predefined, allowing models to learn from both normal and anomalous instances.\n",
    "\n",
    "### Q4. What are the main categories of anomaly detection algorithms?\n",
    "The main categories of anomaly detection algorithms include statistical methods, machine learning approaches (supervised and unsupervised), clustering-based techniques, distance-based methods, and ensemble methods, each employing different strategies to identify anomalies.\n",
    "\n",
    "### Q5. What are the main assumptions made by distance-based anomaly detection methods?\n",
    "Distance-based anomaly detection methods assume that anomalies are located far from normal instances in the feature space. They rely on the idea that normal data points are densely clustered, while anomalies are sparse and isolated, leading to larger distances from their neighbors.\n",
    "\n",
    "### Q6. How does the LOF algorithm compute anomaly scores?\n",
    "The Local Outlier Factor (LOF) algorithm computes anomaly scores by comparing the local density of a point with that of its neighbors. A lower density indicates a higher likelihood of being an outlier, resulting in a LOF score that reflects the degree of local anomaly.\n",
    "\n",
    "### Q7. What are the key parameters of the Isolation Forest algorithm?\n",
    "Key parameters of the Isolation Forest algorithm include the number of trees (n_estimators), the sub-sample size (max_samples), and the contamination rate (contamination), which affects the proportion of expected outliers in the data, influencing how anomalies are detected.\n",
    "\n",
    "### Q8. If a data point has only 2 neighbors of the same class within a radius of 0.5, what is its anomaly score using KNN with K=10?\n",
    "Using KNN with K=10, the anomaly score for a data point with only 2 neighbors within a radius of 0.5 would typically be high, indicating potential anomalous behavior, as fewer neighbors suggest it is isolated relative to the K=10 configuration.\n",
    "\n",
    "### Q9. Using the Isolation Forest algorithm with 100 trees and a dataset of 3000 data points, what is the anomaly score for a data point that has an average path length of 5.0 compared to the average path length of the trees?\n",
    "In Isolation Forest, the anomaly score for a data point with an average path length of 5.0 can be computed as: \n",
    "\\[ \n",
    "\\text{anomaly score} = 2^{- \\frac{\\text{average path length}}{c(n)}} \n",
    "\\]\n",
    "where \\( c(n) \\) is the average path length of the trees in a balanced binary tree. A shorter path length than average indicates higher anomaly scores. \n",
    "\n",
    "(Note: The exact score would depend on the specific \\( c(n) \\) value for the dataset size.)\n"
   ]
  }
 ],
 "metadata": {
  "kernelspec": {
   "display_name": "Python 3 (ipykernel)",
   "language": "python",
   "name": "python3"
  },
  "language_info": {
   "codemirror_mode": {
    "name": "ipython",
    "version": 3
   },
   "file_extension": ".py",
   "mimetype": "text/x-python",
   "name": "python",
   "nbconvert_exporter": "python",
   "pygments_lexer": "ipython3",
   "version": "3.12.4"
  }
 },
 "nbformat": 4,
 "nbformat_minor": 5
}
