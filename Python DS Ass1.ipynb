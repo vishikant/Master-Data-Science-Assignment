{
 "cells": [
  {
   "cell_type": "code",
   "execution_count": null,
   "id": "74d22cfd-1776-4772-9c30-70b19095775d",
   "metadata": {},
   "outputs": [],
   "source": [
    "#who developed Python programming language in 100 word?\n",
    "Python was developed by **Guido van Rossum**, a Dutch programmer, in the late 1980s, and it was first released in 1991. Van Rossum \n",
    "created Python as a successor to the ABC programming language, aiming to design a language that was easy to read, write, and understand. \n",
    "His goal was to create a high-level, versatile language that emphasized code readability and simplicity, with a clean syntax. Python has \n",
    "since grown into one of the most popular programming languages, widely used in web development, data science, machine learning, automation,\n",
    "and more, thanks to its vast libraries and community support."
   ]
  },
  {
   "cell_type": "code",
   "execution_count": null,
   "id": "c8aace67-aa8a-4532-81ea-6cfcfd50d1ab",
   "metadata": {},
   "outputs": [],
   "source": [
    "#Which type of programming python upports?\n",
    "Python supports multiple programming paradigms, making it a highly versatile language:\n",
    "\n",
    "1. **Object-Oriented Programming (OOP)**: Python allows users to define classes and objects, supporting encapsulation, inheritance, and polymorphism.\n",
    "2. **Procedural Programming**: Python supports writing functions and procedures that operate on data, focusing on step-by-step instructions.\n",
    "3. **Functional Programming**: Python enables functional programming through features like higher-order functions, lambdas, and map-reduce capabilities, supporting immutability and stateless functions.\n",
    "4. **Scripting**: Python can be used for scripting tasks such as automation, file manipulation, and quick programming tasks.\n",
    "\n",
    "This multi-paradigm approach makes Python flexible for a wide range of applications."
   ]
  },
  {
   "cell_type": "code",
   "execution_count": null,
   "id": "71642acd-eb01-4f93-8efb-ad3a2f0e68f0",
   "metadata": {},
   "outputs": [],
   "source": [
    "#is python case senstive when dealing it with identifiers?\n",
    "Yes, Python is **case-sensitive** when dealing with identifiers. This means that it distinguishes between uppercase and lowercase letters. \n",
    "For example, variables or identifiers such as `MyVariable`, `myvariable`, and `MYVARIABLE` would be treated as distinct entities. \n",
    "This case sensitivity applies to variable names, function names, class names, and other identifiers in Python. It's important to maintain \n",
    "consistent use of case to avoid errors in the code. The case-sensitive nature ensures that Python maintains clear and precise handling of \n",
    "variables and functions, making it critical to be mindful of capitalization when coding in Python."
   ]
  },
  {
   "cell_type": "code",
   "execution_count": null,
   "id": "03e96360-803f-4ac6-964e-16b51125195f",
   "metadata": {},
   "outputs": [],
   "source": [
    "#what is correct extension of python file?\n",
    "The correct extension for a Python file is **`.py`**. This extension is used to indicate that the file contains Python source code.\n",
    "When you write and save a Python program, it is saved with a `.py` extension, allowing Python interpreters to recognize and execute the \n",
    "script. For example, a file named `script.py` can be run using a Python interpreter by typing `python script.py` in the terminal or command\n",
    "prompt. Additionally, Python also supports other extensions, such as `.pyc` for compiled bytecode files, but `.py` is the standard for\n",
    "source code files."
   ]
  },
  {
   "cell_type": "code",
   "execution_count": null,
   "id": "6c3366e0-cb76-4de3-9a8b-f09ba8e68cb2",
   "metadata": {},
   "outputs": [],
   "source": [
    "#is python code compiled or interpreted?\n",
    "Python is an **interpreted language**, but it also involves a compilation step. When Python code is executed, the source code (.py file) \n",
    "is first compiled into **bytecode**, which is an intermediate, platform-independent representation. This bytecode is stored in `.pyc` files. \n",
    "The Python interpreter then executes this bytecode, translating it into machine-level instructions on the fly.\n",
    "\n",
    "However, unlike traditional compiled languages (e.g., C or Java), this compilation step is implicit and handled by Python’s runtime\n",
    "environment, making Python feel like an interpreted language to developers. This process allows Python to be highly flexible and easy to\n",
    "debug, though it may run slower than fully compiled languages."
   ]
  },
  {
   "cell_type": "code",
   "execution_count": null,
   "id": "8053b69a-2f5b-4f72-aa35-9d6236271b3c",
   "metadata": {},
   "outputs": [],
   "source": [
    "#name the few code blocks which used to define in python language?\n",
    "In Python, code blocks are defined using indentation rather than braces or keywords. Some key code blocks include:\n",
    "\n",
    "1. **Function definition block**: Created using the `def` keyword, followed by the function name and parameters (e.g., `def my_function():`).\n",
    "2. **Class definition block**: Defined using the `class` keyword (e.g., `class MyClass:`).\n",
    "3. **Conditional block**: Uses `if`, `elif`, and `else` to define conditional statements.\n",
    "4. **Loop block**: Created using `for` or `while` loops (e.g., `for i in range(10):` or `while condition:`).\n",
    "5. **Try-except block**: Used for exception handling with the `try`, `except`, `finally`, and `else` keywords."
   ]
  },
  {
   "cell_type": "code",
   "execution_count": null,
   "id": "fe0ebdd3-6af9-4b72-b817-540e1dd0be3e",
   "metadata": {},
   "outputs": [],
   "source": [
    "#7 its hashtag(#) which single line comment in python"
   ]
  },
  {
   "cell_type": "code",
   "execution_count": null,
   "id": "8545c7f6-822e-46de-9396-656fd48f1ced",
   "metadata": {},
   "outputs": [],
   "source": [
    "#function which help us to fine current version in python\n",
    "The function that helps you find the current version of Python is **`python --version`** (or **`python -V`**) when used in the command line, or you can use **`sys.version`** within a Python script.\n",
    "\n",
    "Here’s how you can check it:\n",
    "\n",
    "1. **Command Line**:\n",
    "   - Open your terminal or command prompt and type:\n",
    "     ```bash\n",
    "     python --version\n",
    "     ```\n",
    "   - This will display the installed Python version.\n",
    "\n",
    "2. **Within a Python Script**:\n",
    "   ```python\n",
    "   import sys\n",
    "   print(sys.version)\n",
    "   ```\n",
    "   This will print the current Python version being used in the script."
   ]
  },
  {
   "cell_type": "code",
   "execution_count": null,
   "id": "e1defce5-379f-46b3-8f7e-43fba1e5f531",
   "metadata": {},
   "outputs": [],
   "source": [
    "#8 lambda function"
   ]
  },
  {
   "cell_type": "code",
   "execution_count": null,
   "id": "17f63141-a9cf-4ced-a4f8-381321b838cb",
   "metadata": {},
   "outputs": [],
   "source": [
    "#pip stands dor package installer for python"
   ]
  },
  {
   "cell_type": "code",
   "execution_count": null,
   "id": "0016f7b7-7d15-4f05-b9c3-556868e4a897",
   "metadata": {},
   "outputs": [],
   "source": [
    "#Python has a wide range of **built-in functions** that are available by default without needing to import any modules. Some commonly used built-in functions include:\n",
    "\n",
    "1. **`print()`**: Outputs text or variables to the console.\n",
    "2. **`len()`**: Returns the length (number of items) of an object (e.g., a string, list).\n",
    "3. **`type()`**: Returns the type of an object.\n",
    "4. **`input()`**: Takes input from the user.\n",
    "5. **`int()`, `float()`, `str()`**: Converts data types.\n",
    "6. **`sum()`**: Returns the sum of a sequence.\n",
    "7. **`range()`**: Generates a sequence of numbers.\n",
    "8. **`max()`, `min()`**: Returns the maximum or minimum value.\n",
    "9. **`sorted()`**: Returns a sorted list."
   ]
  },
  {
   "cell_type": "code",
   "execution_count": null,
   "id": "1dd2d602-a9a7-4a95-8a58-427dba399eab",
   "metadata": {},
   "outputs": [],
   "source": [
    "#In Python, there is **no explicit limit** on the maximum length of an identifier (variable, function, or class name).\n",
    "The length of an identifier is constrained only by the available memory of the system. However, it is recommended to keep identifiers \n",
    "reasonably short and meaningful for readability and maintainability of the code.\n",
    "\n",
    "Although there's no specific length restriction, long identifiers can make the code cumbersome and harder to understand, so Python \n",
    "developers usually follow conventions like **PEP 8**, which encourages using clear, concise, and descriptive names."
   ]
  },
  {
   "cell_type": "code",
   "execution_count": null,
   "id": "18dfa71e-d445-44e7-b405-6b4d7dd7d6b4",
   "metadata": {},
   "outputs": [],
   "source": [
    "#benifits of using python?\n",
    "Python offers numerous benefits, making it a popular choice for developers:\n",
    "\n",
    "1. **Easy to Learn and Use**: Python’s simple syntax, readability, and English-like commands make it accessible to beginners.\n",
    "2. **Versatility**: Python supports multiple programming paradigms (object-oriented, procedural, and functional programming) and is used in diverse fields like web development, data science, AI, automation, and more.\n",
    "3. **Extensive Libraries and Frameworks**: Python has a rich ecosystem of libraries and frameworks (e.g., NumPy, Pandas, Django, TensorFlow), enabling faster development.\n",
    "4. **Cross-Platform**: Python is compatible with various operating systems, ensuring flexibility.\n",
    "5. **Active Community**: A large and active community provides ample support, tutorials, and resources.\n",
    "6. **Rapid Prototyping**: Python's simplicity allows developers to quickly build and iterate applications.\n",
    "\n",
    "These advantages make Python suitable for both small projects and large-scale applications."
   ]
  },
  {
   "cell_type": "code",
   "execution_count": null,
   "id": "526367e4-0d59-483e-8c43-efac6c3065b6",
   "metadata": {},
   "outputs": [],
   "source": [
    "#how memory managed in python?\n",
    "Memory management in Python is handled by a built-in garbage collector, which automatically manages memory allocation and deallocation.\n",
    "When objects are created, Python allocates memory for them in a private heap. The memory is managed through reference counting, where each \n",
    "object keeps track of how many references point to it. When an object's reference count reaches zero, meaning no references exist, the memory\n",
    "is deallocated. \n",
    "\n",
    "Additionally, Python uses a cyclic garbage collector to identify and collect cyclic references that the reference counting mechanism \n",
    "cannot handle. This automated memory management helps prevent memory leaks and optimizes memory usage, making development easier."
   ]
  },
  {
   "cell_type": "code",
   "execution_count": null,
   "id": "9e1736f2-2e56-45e4-b252-18c03bd73b4b",
   "metadata": {},
   "outputs": [],
   "source": []
  }
 ],
 "metadata": {
  "kernelspec": {
   "display_name": "Python 3 (ipykernel)",
   "language": "python",
   "name": "python3"
  },
  "language_info": {
   "codemirror_mode": {
    "name": "ipython",
    "version": 3
   },
   "file_extension": ".py",
   "mimetype": "text/x-python",
   "name": "python",
   "nbconvert_exporter": "python",
   "pygments_lexer": "ipython3",
   "version": "3.12.4"
  }
 },
 "nbformat": 4,
 "nbformat_minor": 5
}
