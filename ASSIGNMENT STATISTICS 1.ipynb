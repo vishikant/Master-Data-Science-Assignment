{
 "cells": [
  {
   "cell_type": "code",
   "execution_count": null,
   "id": "d57edcc3",
   "metadata": {},
   "outputs": [],
   "source": [
    "#Q1. What is the Probability density function?\n",
    "The Probability Density Function (PDF) is a fundamental concept in probability theory and statistics, \n",
    "particularly in the context of continuous random variables. It describes the likelihood of a random variable \n",
    "taking on a particular value or falling within a specific range of values. The PDF must be non-negative and \n",
    "integrate to one over the entire space of possible values of the random variable."
   ]
  },
  {
   "cell_type": "code",
   "execution_count": null,
   "id": "04f47f93",
   "metadata": {},
   "outputs": [],
   "source": [
    "#Q2. What are the types of Probability distribution?\n",
    "Discrete Probability Distributions\n",
    "These distributions describe the probability of outcomes for discrete random variables,\n",
    "which can take on a finite or countably infinite number of values.\n",
    "\n",
    "#Bernoulli Distribution:\n",
    "Describes a random variable with only two possible outcomes (0 or 1), where \n",
    "p.p is the probability of outcome 1.\n",
    "Example: Flipping a coin (heads or tails).\n",
    "\n",
    "#Binomial Distribution:\n",
    "Represents the number of successes in n\n",
    "n independent Bernoulli trials, each with probability \n",
    "p of success.\n",
    "Example: Number of heads in 10 coin flips.\n",
    "\n",
    "# Geometric Distribution:\n",
    "Describes the number of trials needed to get the first success in a series of independent Bernoulli trials.\n",
    "Example: Number of times you need to roll a die to get a 6.\n",
    "    \n",
    "#Poisson Distribution:\n",
    "Models the number of times an event occurs in a fixed interval of time or space, given the event happens\n",
    "with a constant rate λ\n",
    "λ and independently of the time since the last event.\n",
    "Example: Number of emails received in an hour.\n",
    "\n",
    "    \n",
    "2. Continuous Probability Distributions\n",
    "These distributions describe the probabilities of outcomes for continuous random variables, which can take on\n",
    "an infinite number of values within a given range.\n",
    "\n",
    "Common Continuous Distributions:\n",
    "\n",
    "#Uniform Distribution:\n",
    "Every outcome in the range [a,b]\n",
    "[a,b] is equally likely.\n",
    "Example: Probability of a point on a line segment of length 1.\n",
    "    \n",
    "#Normal (Gaussian) Distribution:\n",
    "Described by its mean (μ) and standard deviation (σ), it represents many natural phenomena.\n",
    "Example: Heights of people, errors in measurements.\n",
    "\n",
    "#Gamma Distribution:\n",
    "Generalizes the exponential distribution; used to model waiting times for multiple events.\n",
    "Example: Time to complete multiple tasks.\n",
    "\n",
    "#Beta Distribution:\n",
    "Models the distribution of probabilities; it is used in Bayesian statistics.\n",
    "Example: Distribution of probabilities in a Bayesian inference problem.\n",
    "    \n",
    "#Chi-Square Distribution:\n",
    "Used in hypothesis testing and in the construction of confidence intervals for variance.\n",
    "Example: Test statistic in a chi-square test for independence.\n",
    "    \n",
    "#Student's t-Distribution:\n",
    "Similar to the normal distribution but with heavier tails, used when the sample size is small and the population variance is unknown.\n",
    "Example: Confidence intervals for small sample sizes."
   ]
  },
  {
   "cell_type": "code",
   "execution_count": 1,
   "id": "5c3b8d48",
   "metadata": {},
   "outputs": [
    {
     "name": "stdout",
     "output_type": "stream",
     "text": [
      "The PDF of the normal distribution at x=1.0, mu=0.0, sigma=1.0 is 0.2420\n"
     ]
    }
   ],
   "source": [
    "#Q3. Write a Python function to calculate the probability density function of a normal distribution with\n",
    "#given mean and standard deviation at a given point.\n",
    "import math\n",
    "\n",
    "def normal_pdf(x, mu, sigma):\n",
    "    # Ensure sigma is positive to avoid division by zero\n",
    "    if sigma <= 0:\n",
    "        raise ValueError(\"Standard deviation must be positive\")\n",
    "\n",
    "    # Calculate the PDF using the normal distribution formula\n",
    "    coef = 1 / (sigma * math.sqrt(2 * math.pi))\n",
    "    exponent = math.exp(-((x - mu) ** 2) / (2 * sigma ** 2))\n",
    "    return coef * exponent\n",
    "\n",
    "x = 1.0\n",
    "mu = 0.0\n",
    "sigma = 1.0\n",
    "pdf_value = normal_pdf(x, mu, sigma)\n",
    "print(f\"The PDF of the normal distribution at x={x}, mu={mu}, sigma={sigma} is {pdf_value:.4f}\")\n"
   ]
  },
  {
   "cell_type": "code",
   "execution_count": null,
   "id": "d3527af2",
   "metadata": {},
   "outputs": [],
   "source": [
    "#Q4. What are the properties of Binomial distribution? Give two examples of events where binomialdistribution can be applied.\n",
    "The Binomial distribution is a discrete probability distribution that models the number of successes in a \n",
    "fixed number of independent and identically distributed Bernoulli trials, each with the same probability of success.\n",
    "one can model and analyze the probabilities of different numbers of successes in various experiments and processes.\n",
    "\n",
    "Quality Control in Manufacturing:\n",
    "\n",
    "Suppose a factory produces light bulbs, and the probability that a randomly chosen bulb is defective is p=0.02\n",
    "If a quality control inspector randomly selects 50 bulbs from a production lot, the number of defective bulbs found follows a binomial distribution with parameters \n",
    "n=50 and p=0.02.\n",
    "\n",
    "Drug Efficacy Trials:\n",
    "In a clinical trial for a new drug, each patient has a certain probability p of responding positively to the \n",
    "treatment. If 100 patients are treated, and the probability of a positive response is \n",
    "p=0.75, the number of patients who respond positively follows a binomial distribution with \n",
    "n=100 and p=0.75."
   ]
  },
  {
   "cell_type": "code",
   "execution_count": 4,
   "id": "bae07e5f",
   "metadata": {},
   "outputs": [
    {
     "data": {
      "image/png": "[encoded data removed]",
      "text/plain": [
       "<Figure size 640x480 with 1 Axes>"
      ]
     },
     "metadata": {},
     "output_type": "display_data"
    }
   ],
   "source": [
    "#Generate a random sample of size 1000 from a binomial distribution with probability of success 0.4\n",
    "import numpy as np\n",
    "import matplotlib.pyplot as plt\n",
    "n=10\n",
    "p=0.4\n",
    "sample_size=1000\n",
    "df=np.random.binomial(n,p,sample_size)\n",
    "plt.hist(df)\n",
    "plt.show()"
   ]
  },
  {
   "cell_type": "code",
   "execution_count": 5,
   "id": "4c95cf6e",
   "metadata": {},
   "outputs": [
    {
     "name": "stdout",
     "output_type": "stream",
     "text": [
      "The CDF of the Poisson distribution at k=3, lambda=2.5 is approximately 0.7576\n"
     ]
    }
   ],
   "source": [
    "import math\n",
    "\n",
    "def poisson_cdf(k, lambd):\n",
    "  \n",
    "    # Ensure lambd is positive\n",
    "    if lambd <= 0:\n",
    "        raise ValueError(\"Mean parameter lambda must be positive\")\n",
    "\n",
    "    cdf = 0\n",
    "    for i in range(k + 1):\n",
    "        cdf += (math.exp(-lambd) * (lambd ** i)) / math.factorial(i)\n",
    "    return cdf\n",
    "\n",
    "# Example usage\n",
    "k = 3\n",
    "lambd = 2.5\n",
    "cdf_value = poisson_cdf(k, lambd)\n",
    "print(f\"The CDF of the Poisson distribution at k={k}, lambda={lambd} is approximately {cdf_value:.4f}\")\n"
   ]
  },
  {
   "cell_type": "code",
   "execution_count": null,
   "id": "73c6b245",
   "metadata": {},
   "outputs": [],
   "source": [
    "#Q7. How Binomial distribution different from Poisson distribution?\n",
    "The Binomial distribution and the Poisson distribution differ primarily in the conditions under \n",
    "which they are applicable and the nature of the events they model. \n",
    "The Binomial distribution describes the number of successes in a fixed number of independent Bernoulli trials, \n",
    "each with the same probability of success. It requires a fixed number of trials (\\( n \\)) and \n",
    "a constant probability of success (\\( p \\)).\n",
    "\n",
    "In contrast, the Poisson distribution models the number of events occurring in a fixed interval of time or space,\n",
    "given a known average rate (\\( \\lambda \\)) of occurrence. It is used when the number of trials is not fixed, and\n",
    "events occur randomly and independently at a constant average rate.\n"
   ]
  },
  {
   "cell_type": "code",
   "execution_count": 6,
   "id": "c66a1ff3",
   "metadata": {},
   "outputs": [
    {
     "name": "stdout",
     "output_type": "stream",
     "text": [
      "Sample Mean: 2.495\n",
      "Sample Variance: 2.6219750000000004\n"
     ]
    }
   ],
   "source": [
    "#Q8. Generate a random sample of size 1000 from a Poisson distribution with mean 5 and calculate thesample mean and variance.\n",
    "size=1000\n",
    "mean=5\n",
    "random_sample = np.random.poisson(lambd, sample_size)\n",
    "\n",
    "# Calculate the sample mean and variance\n",
    "sample_mean = np.mean(random_sample)\n",
    "sample_variance = np.var(random_sample)\n",
    "\n",
    "print(\"Sample Mean:\", sample_mean)\n",
    "print(\"Sample Variance:\", sample_variance)"
   ]
  },
  {
   "cell_type": "code",
   "execution_count": null,
   "id": "2430c693",
   "metadata": {},
   "outputs": [],
   "source": [
    "#Q9. How mean and variance are related in Binomial distribution and Poisson distribution?\n",
    "In the Binomial distribution, mean (\\(np\\)) and variance (\\(np(1-p)\\)) are related, influenced by success\n",
    "probability \\(p\\) and number of trials \\(n\\). Conversely, in the Poisson distribution, mean (\\(\\lambda\\)) and \n",
    "variance (\\(\\lambda\\)) are directly related, solely determined by the rate parameter \\(\\lambda\\).\n",
    "Binomial variance depends on both mean and success probability, while Poisson variance is solely \n",
    "determined by the mean. Therefore, while both distributions exhibit relationships between mean and \n",
    "variance, the underlying mechanisms differ based on the nature of events\n",
    "and distribution parameters."
   ]
  },
  {
   "cell_type": "code",
   "execution_count": null,
   "id": "bd1b4c0d",
   "metadata": {},
   "outputs": [],
   "source": [
    "#Q10. In normal distribution with respect to mean position, where does the least frequent data appear?\n",
    "In a normal distribution, the least frequent data points appear in the tails of the distribution, farthest away\n",
    "from the mean. Since the normal distribution is symmetric, the least frequent data points occur at the extreme ends\n",
    "of the distribution, in the tails that extend infinitely in both directions from the mean. These tails represent\n",
    "the lowest probabilities of occurrence according to the normal distribution's bell-shaped curve. As you move\n",
    "further from the mean towards the tails, the probability density decreases, indicating that data points in these \n",
    "regions are less likely to occur compared to those closer to the mean."
   ]
  }
 ],
 "metadata": {
  "kernelspec": {
   "display_name": "Python 3 (ipykernel)",
   "language": "python",
   "name": "python3"
  },
  "language_info": {
   "codemirror_mode": {
    "name": "ipython",
    "version": 3
   },
   "file_extension": ".py",
   "mimetype": "text/x-python",
   "name": "python",
   "nbconvert_exporter": "python",
   "pygments_lexer": "ipython3",
   "version": "3.11.5"
  }
 },
 "nbformat": 4,
 "nbformat_minor": 5
}
