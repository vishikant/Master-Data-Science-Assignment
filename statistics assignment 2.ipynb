{
 "cells": [
  {
   "cell_type": "code",
   "execution_count": null,
   "id": "e44bd315",
   "metadata": {},
   "outputs": [],
   "source": [
    "#Q1: What are the Probability Mass Function (PMF) and Probability Density Function (PDF)? Explain withan example.\n",
    "The Probability Mass Function (PMF) and Probability Density Function (PDF) describe the probabilities of discrete \n",
    "and continuous random variables, respectively. PMF assigns probabilities to discrete outcomes, while \n",
    "PDF assigns probabilities to intervals for continuous outcomes. For instance, a fair six-sided die has a PMF, \n",
    "where each face has a probability of ( \\frac{1}{6} ). In contrast, a standard normal distribution has a PDF, \n",
    "describing the likelihood of a continuous variable falling within specific ranges. Both PMF and PDF integrate \n",
    "to 1 over the entire range of possible outcomes, ensuring the total probability is accounted for."
   ]
  },
  {
   "cell_type": "code",
   "execution_count": null,
   "id": "990c21d2",
   "metadata": {},
   "outputs": [],
   "source": [
    "#Q2: What is Cumulative Density Function (CDF)? Explain with an example. Why CDF is used?\n",
    "The Cumulative Density Function (CDF) gives the probability that a random variable takes on a value less \n",
    "than or equal to a given point. It provides a comprehensive view of the probability distribution by accumulating \n",
    "probabilities up to a certain point. For example, in a standard normal distribution, the CDF at \\( x = 1 \\) \n",
    "indicates the probability that a randomly selected value is less than or equal to 1. CDFs are used to evaluate \n",
    "probabilities, determine percentiles, and assess the overall behavior of probability distributions, aiding in\n",
    "statistical analysis and decision-making."
   ]
  },
  {
   "cell_type": "code",
   "execution_count": null,
   "id": "d04533ae",
   "metadata": {},
   "outputs": [],
   "source": [
    "#Q3: What are some examples of situations where the normal distribution might be used as a model?\n",
    "#Explain how the parameters of the normal distribution relate to the shape of the distribution.\n",
    "\n",
    "The normal distribution is used to model phenomena like heights, test scores, and measurement errors. \n",
    "Its parameters, mean (( mu )) and standard deviation (( sigma )), shape the distribution: ( mu )\n",
    "    determines the peak, while ( sigma ) controls the spread. For instance, in height data, ( mu ) \n",
    "    represents the average height, and ( sigma ) indicates the range of heights around the average. \n",
    "    Similarly, in financial data, ( mu ) signifies the average return, and ( sigma ) reflects the volatility. \n",
    "Together, these parameters define the bell-shaped curve, aiding in statistical analysis and decision-making."
   ]
  },
  {
   "cell_type": "code",
   "execution_count": null,
   "id": "8cd56dff",
   "metadata": {},
   "outputs": [],
   "source": [
    "#Q4: Explain the importance of Normal Distribution. Give a few real-life examples of NormalDistribution.\n",
    "The Normal Distribution holds importance as it approximates many natural processes, aiding in predictions and \n",
    "statistical inference. Real-life examples include heights of individuals, IQ scores, test scores, and \n",
    "measurement errors. Its bell-shaped curve allows for precise analysis and modeling, guiding decision-making in \n",
    "various fields. Additionally, its properties, such as the Central Limit Theorem, provide a foundation for \n",
    "statistical methods, ensuring robustness in data analysis. Overall, the Normal Distribution's \n",
    "prevalence and properties make it indispensable for understanding and interpreting data in numerous \n",
    "real-world scenarios."
   ]
  },
  {
   "cell_type": "code",
   "execution_count": null,
   "id": "12ce1849",
   "metadata": {},
   "outputs": [],
   "source": [
    "#Q5: What is Bernaulli Distribution? Give an Example. What is the difference between BernoulliDistribution and Binomial Distribution?\n",
    "The Bernoulli Distribution models a single binary outcome, typically representing success (1) or failure (0),\n",
    "with a probability \\( p \\) of success and \\( 1 - p \\) of failure. For example, a coin flip resulting in heads \n",
    "(success) or tails (failure) follows a Bernoulli Distribution with \\( p = 0.5 \\). The key difference between \n",
    "Bernoulli and Binomial distributions is that Bernoulli describes a single trial, while Binomial describes the \n",
    "number of successes in a fixed number of independent Bernoulli trials, each with the same probability of success. \n",
    "Binomial Distribution arises from multiple Bernoulli trials."
   ]
  },
  {
   "cell_type": "code",
   "execution_count": 1,
   "id": "f20c1a42",
   "metadata": {},
   "outputs": [
    {
     "name": "stdout",
     "output_type": "stream",
     "text": [
      "Probability that a randomly selected observation will be greater than 60: 0.15865525393145707\n"
     ]
    }
   ],
   "source": [
    "#Q6. Consider a dataset with a mean of 50 and a standard deviation of 10. If we assume that the dataset\n",
    "#is normally distributed, what is the probability that a randomly selected observation will be greater\n",
    "#than 60? Use the appropriate formula and show your calculations.\n",
    "from scipy.stats import norm\n",
    "\n",
    "# Mean and standard deviation\n",
    "mean = 50\n",
    "std_dev = 10\n",
    "\n",
    "# Value we want to find the probability for\n",
    "value = 60\n",
    "\n",
    "# Calculate the Z-score\n",
    "z_score = (value - mean) / std_dev\n",
    "\n",
    "# Calculate the probability using the cumulative distribution function (CDF) of the standard normal distribution\n",
    "# Since we want the probability of being greater than 60, we use 1 - CDF\n",
    "probability = 1 - norm.cdf(z_score)\n",
    "\n",
    "print(\"Probability that a randomly selected observation will be greater than 60:\", probability)\n"
   ]
  },
  {
   "cell_type": "code",
   "execution_count": null,
   "id": "76eeff4a",
   "metadata": {},
   "outputs": [],
   "source": [
    "#Q7: Explain uniform Distribution with an example.\n",
    "The Uniform Distribution represents a continuous probability distribution where every value within a certain \n",
    "range has an equal probability of occurring. In other words, all outcomes are equally likely.\n",
    "\n",
    "For example, consider rolling a fair six-sided die. Each face has an equal chance of landing face up. \n",
    "If the die is fair, the probability of rolling any number (1, 2, 3, 4, 5, or 6) is 1/6\n",
    "This scenario follows a discrete uniform distribution because each outcome has the same probability."
   ]
  },
  {
   "cell_type": "code",
   "execution_count": null,
   "id": "fef28045",
   "metadata": {},
   "outputs": [],
   "source": [
    "#Q8: What is the z score? State the importance of the z score.\n",
    "The Z-score, also known as the standard score, measures how many standard deviations a data point is from the mean\n",
    "of a distribution. \n",
    "\n",
    "The importance of the Z-score lies in its ability to standardize data across different distributions, allowing for\n",
    "comparisons and statistical analysis. It provides a standardized way to assess how unusual or typical a data point\n",
    "is within a given dataset. Additionally, Z-scores facilitate the interpretation of data in terms of the normal\n",
    "distribution, enabling the calculation of probabilities and\n",
    "confidence intervals."
   ]
  },
  {
   "cell_type": "code",
   "execution_count": null,
   "id": "e188dfa4",
   "metadata": {},
   "outputs": [],
   "source": [
    "#What is Central Limit Theorem? State the significance of the Central Limit Theorem.\n",
    "The Central Limit Theorem (CLT) states that the sampling distribution of the sample mean approaches a normal \n",
    "distribution as the sample size increases, regardless of the shape of the population distribution.\n",
    "Specifically, if you take multiple random samples from a population and calculate the mean of each sample,\n",
    "the distribution of those sample means will be approximately normal, even if the original population distribution\n",
    "is not normal.\n",
    "\n",
    "The significance of the Central Limit Theorem lies in its wide applicability in statistics and data analysis. \n",
    "It allows researchers and analysts to make inferences about population parameters, such as the population mean,\n",
    "based on sample statistics. Additionally, it forms the basis for many statistical methods, such as hypothesis \n",
    "testing, confidence intervals, and regression analysis, making it a fundamental concept in statistical theory."
   ]
  },
  {
   "cell_type": "code",
   "execution_count": null,
   "id": "c94cb4da",
   "metadata": {},
   "outputs": [],
   "source": [
    "#Q10: State the assumptions of the Central Limit Theorem.\n",
    "The Central Limit Theorem (CLT) relies on several assumptions to hold true:\n",
    "\n",
    "1. Independence: The random samples drawn from the population must be independent of each other. \n",
    "    Each observation should be selected randomly and should not be influenced by any other observation.\n",
    "\n",
    "2. Sample Size: The sample size should be sufficiently large. While there is no strict rule for the minimum \n",
    "    sample size, a common guideline is that the sample size should be greater than 30. However, for non-normal \n",
    "    populations, larger sample sizes are often required.\n",
    "\n",
    "3. Population Distribution: The population distribution should have a finite mean (( mu )) and a\n",
    "    finite variance (( sigma^2 )). While the population distribution does not have to be normal, it should \n",
    "    not be extremely skewed or have heavy tails.\n",
    "\n",
    "4. Identical Distribution: If multiple samples are taken, each sample should be drawn from the same population \n",
    "    and have the same distribution.\n"
   ]
  }
 ],
 "metadata": {
  "kernelspec": {
   "display_name": "Python 3 (ipykernel)",
   "language": "python",
   "name": "python3"
  },
  "language_info": {
   "codemirror_mode": {
    "name": "ipython",
    "version": 3
   },
   "file_extension": ".py",
   "mimetype": "text/x-python",
   "name": "python",
   "nbconvert_exporter": "python",
   "pygments_lexer": "ipython3",
   "version": "3.11.5"
  }
 },
 "nbformat": 4,
 "nbformat_minor": 5
}
