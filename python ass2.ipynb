{
 "cells": [
  {
   "cell_type": "code",
   "execution_count": 2,
   "id": "e57f8a3f-6be8-4aa2-883e-bec23a2a0ac0",
   "metadata": {},
   "outputs": [
    {
     "name": "stdin",
     "output_type": "stream",
     "text": [
      " 85\n"
     ]
    },
    {
     "name": "stdout",
     "output_type": "stream",
     "text": [
      "B\n"
     ]
    }
   ],
   "source": [
    "#1\n",
    "marks=int(input())\n",
    "if(marks>90):\n",
    "    print('A')\n",
    "elif(marks<=90 and marks>80):\n",
    "    print('B')\n",
    "elif(marks<=80 and marks>60):\n",
    "    print('C')\n",
    "else:\n",
    "    print('D')"
   ]
  },
  {
   "cell_type": "code",
   "execution_count": 4,
   "id": "0d0953e1-73c3-49bb-9a1e-02a972312a6d",
   "metadata": {},
   "outputs": [
    {
     "name": "stdin",
     "output_type": "stream",
     "text": [
      "Enter the cost price:  90000\n"
     ]
    },
    {
     "name": "stdout",
     "output_type": "stream",
     "text": [
      "The tax amount is: 9000.00\n"
     ]
    }
   ],
   "source": [
    "#2\n",
    "def calculate_tax(cost_price):\n",
    "    if cost_price > 100000:\n",
    "        tax_rate = 0.15  # 15%\n",
    "    elif 50000 <= cost_price <= 100000:\n",
    "        tax_rate = 0.10  # 10%\n",
    "    else:\n",
    "        tax_rate = 0.05  # 5%\n",
    "\n",
    "    tax_amount = cost_price * tax_rate\n",
    "    return tax_amount\n",
    "\n",
    "# Example usage\n",
    "cost_price = float(input(\"Enter the cost price: \"))\n",
    "tax = calculate_tax(cost_price)\n",
    "print(f\"The tax amount is: {tax:.2f}\")\n"
   ]
  },
  {
   "cell_type": "code",
   "execution_count": 6,
   "id": "66446933-0a1b-4daf-a23b-4bd2df1783d3",
   "metadata": {},
   "outputs": [
    {
     "name": "stdin",
     "output_type": "stream",
     "text": [
      " jaipur\n"
     ]
    },
    {
     "name": "stdout",
     "output_type": "stream",
     "text": [
      "jai mahal\n"
     ]
    }
   ],
   "source": [
    "#3 \n",
    "def findcity(city):\n",
    "    if(city=='DELHI'):\n",
    "        print(\"monument is red fort\")\n",
    "    elif(city=='Agra'):\n",
    "        print(\"monument is Tajmahal\")\n",
    "    elif(city=='jaipur'):\n",
    "        print(\"jai mahal\")\n",
    "    else:\n",
    "        print(\"NA\")\n",
    "city=input()\n",
    "findcity(city)"
   ]
  },
  {
   "cell_type": "code",
   "execution_count": 20,
   "id": "5ce78238-3b6e-4a62-bd30-58a6160cb2ad",
   "metadata": {},
   "outputs": [
    {
     "name": "stdin",
     "output_type": "stream",
     "text": [
      "Enter a number:  3\n"
     ]
    },
    {
     "name": "stdout",
     "output_type": "stream",
     "text": [
      "The number can be divided by 3 0 times before it is less than or equal to 10.\n"
     ]
    }
   ],
   "source": [
    "def count_divisions_by_3(number):\n",
    "    count = 0\n",
    "    for _ in range(100):  # Arbitrary limit to prevent infinite loop\n",
    "        if number > 10:\n",
    "            number /= 3\n",
    "            count += 1\n",
    "        else:\n",
    "            break  # Exit the loop if the condition is not met\n",
    "    return count\n",
    "\n",
    "# Example usage\n",
    "given_number = float(input(\"Enter a number: \"))\n",
    "result = count_divisions_by_3(given_number)\n",
    "print(f\"The number can be divided by 3 {result} times before it is less than or equal to 10.\")\n"
   ]
  },
  {
   "cell_type": "code",
   "execution_count": null,
   "id": "1e21b4c2-3346-4858-8893-d9f68eaf7eb4",
   "metadata": {},
   "outputs": [],
   "source": [
    "In Python, a **`while` loop** is used when you want to execute a block of code repeatedly as long as a specified condition remains `True`. Here are some scenarios when and why you might use a `while` loop:\n",
    "\n",
    "### When to Use a `while` Loop:\n",
    "1. **Unknown Iteration Count**: Use a `while` loop when the number of iterations is not known in advance. For example, reading data until a certain condition is met (like reaching the end of a file).\n",
    "   \n",
    "2. **Condition-Based Execution**: When you need to continue executing a block of code until a specific condition changes. For example, validating user input until it meets criteria.\n",
    "\n",
    "3. **Dynamic Conditions**: When the loop needs to run based on variables that can change during execution. This is common in real-time applications where conditions may vary.\n",
    "\n",
    "### Why Use a `while` Loop:\n",
    "1. **Flexibility**: `while` loops provide flexibility to iterate based on conditions rather than a fixed range, allowing for more dynamic program behavior.\n",
    "\n",
    "2. **Simplicity**: For certain types of problems, a `while` loop can be more straightforward and easier to read than a `for` loop, especially when dealing with conditions that need constant checking.\n",
    "\n",
    "3. **Infinite Loops**: In some cases, such as server processes or applications waiting for user input, `while` loops can create infinite loops (e.g., `while True:`) until an exit condition is met.\n",
    "\n",
    "### Example of a `while` Loop:\n",
    "```python\n",
    "# Example: Asking for user input until they enter a valid number\n",
    "number = -1\n",
    "\n",
    "while number < 0:\n",
    "    number = float(input(\"Enter a positive number: \"))\n",
    "\n",
    "print(f\"You entered: {number}\")\n",
    "```\n",
    "\n",
    "In this example, the `nnn` loop continues to prompt the user for input until they provide a non-negative number, illustrating how the loop runs based on a condition. This is a perfect scenario for a `while` loop because the number of attempts to get valid input is unknown."
   ]
  },
  {
   "cell_type": "code",
   "execution_count": null,
   "id": "de538d24-4891-4422-b562-d307a3cf40d6",
   "metadata": {},
   "outputs": [],
   "source": []
  }
 ],
 "metadata": {
  "kernelspec": {
   "display_name": "Python 3 (ipykernel)",
   "language": "python",
   "name": "python3"
  },
  "language_info": {
   "codemirror_mode": {
    "name": "ipython",
    "version": 3
   },
   "file_extension": ".py",
   "mimetype": "text/x-python",
   "name": "python",
   "nbconvert_exporter": "python",
   "pygments_lexer": "ipython3",
   "version": "3.12.4"
  }
 },
 "nbformat": 4,
 "nbformat_minor": 5
}
