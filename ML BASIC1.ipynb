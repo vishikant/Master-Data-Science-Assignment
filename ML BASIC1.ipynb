{
 "cells": [
  {
   "cell_type": "code",
   "execution_count": null,
   "id": "b2106c56-9153-46cc-8fd7-a5e8cb61e56c",
   "metadata": {},
   "outputs": [],
   "source": [
    "### Q1: Definitions with Examples\n",
    "- **Artificial Intelligence (AI):** AI refers to the simulation of human intelligence by machines. Example: AI chatbots like Siri or Alexa.\n",
    "- **Machine Learning (ML):** ML is a subset of AI where machines learn patterns from data to make decisions. Example: Spam email detection.\n",
    "- **Deep Learning (DL):** DL is a subset of ML involving neural networks with multiple layers. Example: Image recognition in self-driving cars.\n",
    "\n",
    "### Q2: What is Supervised Learning?\n",
    "Supervised learning involves training a model on labeled data, where the input-output pairs are known. Examples: \n",
    "- Linear regression \n",
    "- Decision trees \n",
    "- Support vector machines (SVM).\n",
    "\n",
    "### Q3: What is Unsupervised Learning?\n",
    "Unsupervised learning uses data without labeled outcomes to find hidden patterns or structures. Examples:\n",
    "- K-means clustering\n",
    "- Principal Component Analysis (PCA).\n",
    "\n",
    "### Q4: Difference between AI, ML, DL, and DS\n",
    "- **AI** encompasses all efforts to simulate human intelligence.\n",
    "- **ML** is a subset of AI focused on algorithms that improve with experience.\n",
    "- **DL** is a more complex subset of ML with deep neural networks.\n",
    "- **Data Science (DS)** deals with extracting insights from large datasets using statistical methods and ML.\n",
    "\n",
    "### Q5: Differences Between Learning Types\n",
    "- **Supervised Learning:** Uses labeled data for training (e.g., predicting house prices).\n",
    "- **Unsupervised Learning:** No labeled data, focuses on pattern discovery (e.g., clustering customers).\n",
    "- **Semi-supervised Learning:** Combines both labeled and unlabeled data.\n",
    "\n",
    "### Q6: Train, Test, and Validation Split\n",
    "- **Training Set:** Used to train the model.\n",
    "- **Validation Set:** Helps tune model parameters.\n",
    "- **Test Set:** Used to evaluate the final model’s performance.\n",
    "Each plays a critical role in ensuring a model generalizes well to new data.\n",
    "\n",
    "### Q7: Unsupervised Learning in Anomaly Detection\n",
    "Unsupervised learning algorithms, like clustering or autoencoders, identify patterns in data, making it useful in anomaly detection by flagging data points that deviate from the norm.\n",
    "\n",
    "### Q8: Common Algorithms\n",
    "- **Supervised Learning Algorithms:**\n",
    "  - Linear regression\n",
    "  - Random forest\n",
    "  - Support vector machines (SVM)\n",
    "  \n",
    "- **Unsupervised Learning Algorithms:**\n",
    "  - K-means clustering\n",
    "  - DBSCAN\n",
    "  - Hierarchical clustering"
   ]
  }
 ],
 "metadata": {
  "kernelspec": {
   "display_name": "Python 3 (ipykernel)",
   "language": "python",
   "name": "python3"
  },
  "language_info": {
   "codemirror_mode": {
    "name": "ipython",
    "version": 3
   },
   "file_extension": ".py",
   "mimetype": "text/x-python",
   "name": "python",
   "nbconvert_exporter": "python",
   "pygments_lexer": "ipython3",
   "version": "3.12.4"
  }
 },
 "nbformat": 4,
 "nbformat_minor": 5
}
