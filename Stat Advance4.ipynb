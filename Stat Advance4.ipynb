{
 "cells": [
  {
   "cell_type": "code",
   "execution_count": null,
   "id": "ac0d9ef6-d452-4df3-b447-75236395a10a",
   "metadata": {},
   "outputs": [],
   "source": [
    "#Q1: What is the difference between a t-test and a z-test? Provide an example scenario where you woulduse each type of test.\n",
    "The t-test and z-test are both statistical tests used to compare means, but they differ in their assumptions and applications.\n",
    "\n",
    "### Key Differences:\n",
    "\n",
    "1. Sample Size:\n",
    "   - t-test: Typically used when the sample size is small (\\( n < 30 \\)) and/or the population standard deviation is unknown.\n",
    "   - z-test: Used for larger samples (\\( n \\geq 30 \\)) when the population standard deviation is known.\n",
    "\n",
    "2. Distribution:\n",
    "   - t-test: Based on the t-distribution, which has thicker tails, making it more appropriate for small samples.\n",
    "   - z-test: Based on the normal distribution, assuming a large enough sample for the Central Limit Theorem to apply.\n",
    "\n",
    "3. **Application**:\n",
    "   - **t-test**: More flexible, as it can handle cases where the population standard deviation is unknown, using the sample standard deviation instead.\n",
    "   - **z-test**: Used when the population variance is known and the sample size is sufficiently large to assume normality.\n",
    "\n",
    "### Example Scenarios:\n",
    "\n",
    "- **t-test Example**: A researcher wants to compare the mean test scores of two small groups of students (e.g., \\( n = 20 \\) each) to \n",
    "determine if there s a significant difference between them. The population standard deviation is unknown, so a t-test is appropriate."
   ]
  },
  {
   "cell_type": "code",
   "execution_count": null,
   "id": "8aa18705-5a6c-4452-9681-a66017088d8b",
   "metadata": {},
   "outputs": [],
   "source": [
    "#Q2: Differentiate between one-tailed and two-tailed tests.\n",
    "A **one-tailed test** is used when the research hypothesis predicts the direction of the effect (e.g., \"greater than\" or \"less than\").\n",
    "It tests for a statistically significant effect in one direction.\n",
    "\n",
    "A **two-tailed test**, on the other hand, checks for an effect in either direction, without specifying whether it will be greater or less \n",
    "than a certain value. It tests for any significant difference, regardless of the direction.\n",
    "\n",
    "**Example**:\n",
    "- One-tailed: Testing if a new drug increases recovery rates.\n",
    "- Two-tailed: Testing if the drug has any effect (increase or decrease) on recovery rates."
   ]
  },
  {
   "cell_type": "code",
   "execution_count": null,
   "id": "d9f95cdd-93d0-4dff-b9c1-dc1cf17f799f",
   "metadata": {},
   "outputs": [],
   "source": [
    "#Q3: Explain the concept of Type 1 and Type 2 errors in hypothesis testing. Provide an example scenario foreach type of error.\n",
    "In hypothesis testing:\n",
    "\n",
    "- A **Type 1 error** occurs when the null hypothesis is rejected when it is actually true (false positive). This means concluding that there\n",
    "is an effect when none exists.  \n",
    "  **Example**: Concluding a new drug works when it actually does not.\n",
    "\n",
    "- A **Type 2 error** occurs when the null hypothesis is not rejected when it is false (false negative). This means failing to detect an\n",
    "effect that is actually present.  \n",
    "  **Example**: Concluding a new drug does not work when it actually does.\n",
    "\n",
    "Type 1 errors are controlled by the significance level (\\(\\alpha\\)), while Type 2 errors relate to the power of the test."
   ]
  },
  {
   "cell_type": "code",
   "execution_count": null,
   "id": "e7895ce0-bce2-4a67-8e93-e6631acb9eb3",
   "metadata": {},
   "outputs": [],
   "source": [
    "#Q4: Explain Bayes's theorem with an example.\n",
    "**Bayes's theorem** is a mathematical formula that describes the probability of an event, based on prior knowledge of conditions related \n",
    "to the event. It is expressed as:\n",
    "\n",
    "\\[\n",
    "P(A|B) = \\frac{P(B|A) \\cdot P(A)}{P(B)}\n",
    "\\]\n",
    "\n",
    "Where:\n",
    "- \\( P(A|B) \\) is the probability of event A given B has occurred,\n",
    "- \\( P(B|A) \\) is the probability of event B given A,\n",
    "- \\( P(A) \\) and \\( P(B) \\) are the independent probabilities of A and B.\n",
    "\n",
    "**Example**: If 1% of people have a disease (A), and a test correctly detects the disease 95% of the time (B), Bayes's theorem helps calculate the probability of having the disease given a positive test result."
   ]
  },
  {
   "cell_type": "code",
   "execution_count": null,
   "id": "eca891cd-2580-48c9-8e89-bc353300227a",
   "metadata": {},
   "outputs": [],
   "source": [
    "#Q5: What is a confidence interval? How to calculate the confidence interval, explain with an example.\n",
    "A **confidence interval** (CI) is a range of values, derived from a sample, that is likely to contain the true population parameter with \n",
    "a certain level of confidence (e.g., 95%). It provides an estimate of uncertainty around the sample mean.\n",
    "\n",
    "### Formula:\n",
    "\\[\n",
    "CI = \\bar{x} \\pm Z \\left(\\frac{\\sigma}{\\sqrt{n}}\\right)\n",
    "\\]\n",
    "Where:\n",
    "- \\( \\bar{x} \\) is the sample mean,\n",
    "- \\( Z \\) is the Z-score corresponding to the desired confidence level,\n",
    "- \\( \\sigma \\) is the population standard deviation (or sample standard deviation for smaller samples),\n",
    "- \\( n \\) is the sample size.\n",
    "\n",
    "### Example:\n",
    "For a sample mean height of 170 cm, with a standard deviation of 5 cm, and \\(n = 100\\), the 95% CI is:\n",
    "\n",
    "\\[\n",
    "CI = 170 \\pm 1.96 \\left(\\frac{5}{\\sqrt{100}}\\right) = 170 \\pm 0.98\n",
    "\\]\n",
    "\n",
    "Thus, the 95% CI is \\( [169.02, 170.98] \\)."
   ]
  },
  {
   "cell_type": "code",
   "execution_count": null,
   "id": "d4f5b29c-a373-45bf-813f-41be9ba497a9",
   "metadata": {},
   "outputs": [],
   "source": [
    "**Problem**: A certain disease affects 1% of a population. A test for the disease is 90% accurate (true positives) and has a 5% false positive rate. If someone tests positive, what is the probability they actually have the disease?\n",
    "\n",
    "### Solution using **Bayes' Theorem**:\n",
    "Let:\n",
    "- \\(P(D)\\) = 0.01 (probability of having the disease),\n",
    "- \\(P(T|D)\\) = 0.90 (probability of testing positive given the disease),\n",
    "- \\(P(T|\\neg D)\\) = 0.05 (probability of a false positive),\n",
    "- \\(P(\\neg D)\\) = 0.99 (probability of not having the disease).\n",
    "\n",
    "Using Bayes' Theorem:\n",
    "\n",
    "\\[\n",
    "P(D|T) = \\frac{P(T|D) \\cdot P(D)}{P(T|D) \\cdot P(D) + P(T|\\neg D) \\cdot P(\\neg D)}\n",
    "\\]\n",
    "\n",
    "\\[\n",
    "P(D|T) = \\frac{0.90 \\cdot 0.01}{(0.90 \\cdot 0.01) + (0.05 \\cdot 0.99)} = 0.15\n",
    "\\]\n",
    "\n",
    "Thus, the probability the person has the disease given a positive test result is **15%**."
   ]
  },
  {
   "cell_type": "code",
   "execution_count": null,
   "id": "143e8f40-ae2b-4a53-ab0a-e52f39e416ed",
   "metadata": {},
   "outputs": [],
   "source": [
    "#Q7. Calculate the 95% confidence interval for a sample of data with a mean of 50 and a standard deviation of 5. Interpret the results.\n",
    "The **95% confidence interval** for the sample data with a mean of 50 and a standard deviation of 5 (assuming a sample size of 30) is\n",
    "approximately **(48.21, 51.79)**.\n",
    "\n",
    "### Interpretation:\n",
    "This means we can be 95% confident that the true population mean lies between 48.21 and 51.79. In practical terms, if we were to take many \n",
    "samples and calculate their confidence intervals, about 95% of those intervals would contain the actual population mean."
   ]
  },
  {
   "cell_type": "code",
   "execution_count": null,
   "id": "11bc3471-7272-4dab-8a71-4308f9f69bda",
   "metadata": {},
   "outputs": [],
   "source": [
    "#Q8. What is the margin of error in a confidence interval? How does sample size affect the margin of error?\n",
    "#Provide an example of a scenario where a larger sample size would result in a smaller margin of error.\n",
    "The **margin of error** in a confidence interval represents the range within which the true population parameter is expected to lie.\n",
    "It is calculated as the product of the critical value (from the Z or t distribution) and the standard error of the mean. \n",
    "\n",
    "### Effect of Sample Size:\n",
    "A larger sample size decreases the margin of error because the standard error (\\( \\frac{\\sigma}{\\sqrt{n}} \\)) decreases as \\( n \\) increases. This results in a more precise estimate of the population parameter.\n",
    "\n",
    "### Example Scenario:\n",
    "In a survey measuring the average height of adults in a city, a sample of 30 individuals may yield a margin of error of ±3 cm. However,\n",
    "if the sample size is increased to 300, the margin of error may reduce to ±1 cm. This increased sample size provides a more reliable estimate\n",
    "of the average height, as it better captures the population's variability."
   ]
  },
  {
   "cell_type": "code",
   "execution_count": null,
   "id": "03d97a86-3515-4aa4-8887-7c0d2c494c1c",
   "metadata": {},
   "outputs": [],
   "source": [
    "#Q9. Calculate the z-score for a data point with a value of 75, a population mean of 70, and a population\n",
    "standard deviation of 5. Interpret the results.\n",
    "\n",
    "The **z-score** for the data point with a value of 75, a population mean of 70, and a population standard deviation of 5 is **1.0**.\n",
    "\n",
    "### Interpretation:\n",
    "A z-score of 1.0 indicates that the data point (75) is **1 standard deviation above the mean** (70). This suggests that the value of 75\n",
    "is relatively higher compared to the average in the population. In a normal distribution, about 84% of the data points lie below this value,\n",
    "reflecting that it is above average but not extremely high."
   ]
  },
  {
   "cell_type": "code",
   "execution_count": null,
   "id": "cd9a2c53-cc6c-4413-8652-c9a1d1382091",
   "metadata": {},
   "outputs": [],
   "source": [
    "# #Q10. In a study of the effectiveness of a new weight loss drug, a sample of 50 participants lost an average\n",
    "# of 6 pounds with a standard deviation of 2.5 pounds. Conduct a hypothesis test to determine if the drug is\n",
    "# significantly effective at a 95% confidence level using a t-test.\n",
    "To conduct a hypothesis test for the effectiveness of the weight loss drug, we follow these steps:\n",
    "\n",
    "### Hypotheses:\n",
    "- **Null Hypothesis (\\(H_0\\))**: The drug has no effect on weight loss (mean loss = 0).\n",
    "- **Alternative Hypothesis (\\(H_a\\)**: The drug is effective (mean loss > 0).\n",
    "\n",
    "### Given Data:\n",
    "- Sample size (\\(n\\)) = 50\n",
    "- Sample mean (\\(\\bar{x}\\)) = 6 pounds\n",
    "- Sample standard deviation (\\(s\\)) = 2.5 pounds\n",
    "- Significance level (\\(\\alpha\\)) = 0.05\n",
    "\n",
    "### Step 1: Calculate the t-score\n",
    "\\[\n",
    "t = \\frac{\\bar{x} - \\mu_0}{s / \\sqrt{n}} = \\frac{6 - 0}{2.5 / \\sqrt{50}} = \\frac{6}{0.3536} \\approx 16.97\n",
    "\\]\n",
    "\n",
    "### Step 2: Determine the critical t-value\n",
    "For a one-tailed test with \\(n - 1 = 49\\) degrees of freedom at the 0.05 significance level, the critical t-value is approximately **1.676**.\n",
    "\n",
    "### Step 3: Compare t-score and critical value\n",
    "Since \\(16.97 > 1.676\\), we reject the null hypothesis.\n",
    "\n",
    "### Conclusion:\n",
    "There is significant evidence at the 95% confidence level to conclude that the weight loss drug is effective, as participants lost an average of 6 pounds."
   ]
  },
  {
   "cell_type": "code",
   "execution_count": null,
   "id": "9d480fda-8d9d-4973-91a0-78911647602a",
   "metadata": {},
   "outputs": [],
   "source": [
    "#Q11. In a survey of 500 people, 65% reported being satisfied with their current job. Calculate the 95%\n",
    "confidence interval for the true proportion of people who are satisfied with their job.\n",
    "\n",
    "import statsmodels.api as sm\n",
    "\n",
    "# Given data\n",
    "n = 500  # Sample size\n",
    "p_hat = 0.65  # Sample proportion\n",
    "\n",
    "# Calculate the confidence interval for a proportion\n",
    "confidence_interval = sm.proportion.proportion_confint(count=int(p_hat * n), nobs=n, alpha=0.05, method='normal')\n",
    "confidence_interval\n"
   ]
  },
  {
   "cell_type": "code",
   "execution_count": null,
   "id": "a7e66e4f-70fb-4268-a723-1a682229d9dc",
   "metadata": {},
   "outputs": [],
   "source": []
  }
 ],
 "metadata": {
  "kernelspec": {
   "display_name": "Python 3 (ipykernel)",
   "language": "python",
   "name": "python3"
  },
  "language_info": {
   "codemirror_mode": {
    "name": "ipython",
    "version": 3
   },
   "file_extension": ".py",
   "mimetype": "text/x-python",
   "name": "python",
   "nbconvert_exporter": "python",
   "pygments_lexer": "ipython3",
   "version": "3.12.4"
  }
 },
 "nbformat": 4,
 "nbformat_minor": 5
}
