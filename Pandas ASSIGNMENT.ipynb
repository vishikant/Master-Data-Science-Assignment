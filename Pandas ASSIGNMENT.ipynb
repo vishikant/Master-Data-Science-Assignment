{
 "cells": [
  {
   "cell_type": "code",
   "execution_count": 18,
   "id": "59cdf2ce-479a-4c86-9955-254e34083136",
   "metadata": {},
   "outputs": [],
   "source": [
    "import pandas as pd\n",
    "course_name = [\"Data Science\", \"Machine Learning\", \"Big Data\", \"Data Engineer\"]\n",
    "duration = [2,3,6,4]\n",
    "df = pd.DataFrame(data = {\"course_name\" : course_name, \"duration\" : duration})"
   ]
  },
  {
   "cell_type": "code",
   "execution_count": 20,
   "id": "4e9e966e-d89a-41a7-bf60-59be9234abe8",
   "metadata": {},
   "outputs": [
    {
     "data": {
      "text/html": [
       "<div>\n",
       "<style scoped>\n",
       "    .dataframe tbody tr th:only-of-type {\n",
       "        vertical-align: middle;\n",
       "    }\n",
       "\n",
       "    .dataframe tbody tr th {\n",
       "        vertical-align: top;\n",
       "    }\n",
       "\n",
       "    .dataframe thead th {\n",
       "        text-align: right;\n",
       "    }\n",
       "</style>\n",
       "<table border=\"1\" class=\"dataframe\">\n",
       "  <thead>\n",
       "    <tr style=\"text-align: right;\">\n",
       "      <th></th>\n",
       "      <th>course_name</th>\n",
       "      <th>duration</th>\n",
       "    </tr>\n",
       "  </thead>\n",
       "  <tbody>\n",
       "    <tr>\n",
       "      <th>0</th>\n",
       "      <td>Data Science</td>\n",
       "      <td>2</td>\n",
       "    </tr>\n",
       "    <tr>\n",
       "      <th>1</th>\n",
       "      <td>Machine Learning</td>\n",
       "      <td>3</td>\n",
       "    </tr>\n",
       "    <tr>\n",
       "      <th>2</th>\n",
       "      <td>Big Data</td>\n",
       "      <td>6</td>\n",
       "    </tr>\n",
       "    <tr>\n",
       "      <th>3</th>\n",
       "      <td>Data Engineer</td>\n",
       "      <td>4</td>\n",
       "    </tr>\n",
       "  </tbody>\n",
       "</table>\n",
       "</div>"
      ],
      "text/plain": [
       "        course_name  duration\n",
       "0      Data Science         2\n",
       "1  Machine Learning         3\n",
       "2          Big Data         6\n",
       "3     Data Engineer         4"
      ]
     },
     "execution_count": 20,
     "metadata": {},
     "output_type": "execute_result"
    }
   ],
   "source": [
    "df"
   ]
  },
  {
   "cell_type": "code",
   "execution_count": 24,
   "id": "7d45f536-51ab-497d-8f2d-f169503bf0b2",
   "metadata": {},
   "outputs": [
    {
     "data": {
      "text/plain": [
       "course_name    Machine Learning\n",
       "duration                      3\n",
       "Name: 1, dtype: object"
      ]
     },
     "execution_count": 24,
     "metadata": {},
     "output_type": "execute_result"
    }
   ],
   "source": [
    "#Q1. Write a code to print the data present in the second row of the dataframe, df.\n",
    "df.iloc[1]"
   ]
  },
  {
   "cell_type": "code",
   "execution_count": null,
   "id": "cefc90d2-d6d9-44d0-adc3-bd9c6c1f3641",
   "metadata": {},
   "outputs": [],
   "source": [
    "#Q2. What is the difference between the functions loc and iloc in pandas.DataFrame?\n",
    "loc is used to access data using labels or a boolean array.When slicing, loc includes both the start and end labels.\n",
    "e.g. df.loc[\"A:D\"]\n",
    "Iloc is used to access data by integer positions (i.e., the row and column indices).\n",
    "Syntax: df.iloc[row_index, column_index]\n",
    "Excludes the End: When slicing, iloc excludes the end index."
   ]
  },
  {
   "cell_type": "code",
   "execution_count": 76,
   "id": "3fd9069d-f1ce-43f6-89f8-5f798430502f",
   "metadata": {},
   "outputs": [
    {
     "name": "stdout",
     "output_type": "stream",
     "text": [
      "iloc value \n",
      " Name    bebo\n",
      "Age        2\n",
      "sex        F\n",
      "Name: 1, dtype: object\n",
      "loc value \n",
      " Name    Taanu\n",
      "Age         3\n",
      "sex         M\n",
      "Name: 2, dtype: object\n"
     ]
    }
   ],
   "source": [
    "#Q3. Reindex the given dataframe using a variable, reindex = [3,0,1,2] and store it in the variable, new_df\n",
    "#then find the output for both new_df.loc[2] and new_df.iloc[2].\n",
    "data=pd.DataFrame({\"Name\":[\"vishi\",\"bebo\",\"Taanu\",\"Taani\"],\n",
    "                  \"Age\":[1,2,3,4],\n",
    "                  \"sex\":[\"F\",\"F\",\"M\",\"M\"]})\n",
    "reindex=[3,0,1,2]\n",
    "df=data.reindex(reindex)\n",
    "print(\"iloc value \\n\",df.iloc[2])\n",
    "print(\"loc value \\n\",df.loc[2])\n",
    "\n",
    "#diff btw both the output is iloc is returning 2nd row based on indexing and loc return 2nd label value which is third row"
   ]
  },
  {
   "cell_type": "code",
   "execution_count": 82,
   "id": "61a83b17-b719-4268-a93b-78cfffbbcebd",
   "metadata": {},
   "outputs": [
    {
     "data": {
      "text/html": [
       "<div>\n",
       "<style scoped>\n",
       "    .dataframe tbody tr th:only-of-type {\n",
       "        vertical-align: middle;\n",
       "    }\n",
       "\n",
       "    .dataframe tbody tr th {\n",
       "        vertical-align: top;\n",
       "    }\n",
       "\n",
       "    .dataframe thead th {\n",
       "        text-align: right;\n",
       "    }\n",
       "</style>\n",
       "<table border=\"1\" class=\"dataframe\">\n",
       "  <thead>\n",
       "    <tr style=\"text-align: right;\">\n",
       "      <th></th>\n",
       "      <th>column1</th>\n",
       "      <th>column2</th>\n",
       "      <th>column3</th>\n",
       "      <th>column4</th>\n",
       "      <th>column5</th>\n",
       "      <th>column6</th>\n",
       "    </tr>\n",
       "  </thead>\n",
       "  <tbody>\n",
       "    <tr>\n",
       "      <th>1</th>\n",
       "      <td>0.892592</td>\n",
       "      <td>0.120797</td>\n",
       "      <td>0.314301</td>\n",
       "      <td>0.157931</td>\n",
       "      <td>0.162651</td>\n",
       "      <td>0.080846</td>\n",
       "    </tr>\n",
       "    <tr>\n",
       "      <th>2</th>\n",
       "      <td>0.626100</td>\n",
       "      <td>0.718063</td>\n",
       "      <td>0.057885</td>\n",
       "      <td>0.493229</td>\n",
       "      <td>0.183576</td>\n",
       "      <td>0.743278</td>\n",
       "    </tr>\n",
       "    <tr>\n",
       "      <th>3</th>\n",
       "      <td>0.108717</td>\n",
       "      <td>0.811415</td>\n",
       "      <td>0.581165</td>\n",
       "      <td>0.728108</td>\n",
       "      <td>0.213538</td>\n",
       "      <td>0.379810</td>\n",
       "    </tr>\n",
       "    <tr>\n",
       "      <th>4</th>\n",
       "      <td>0.829063</td>\n",
       "      <td>0.819798</td>\n",
       "      <td>0.800090</td>\n",
       "      <td>0.569977</td>\n",
       "      <td>0.263192</td>\n",
       "      <td>0.824708</td>\n",
       "    </tr>\n",
       "    <tr>\n",
       "      <th>5</th>\n",
       "      <td>0.491387</td>\n",
       "      <td>0.090574</td>\n",
       "      <td>0.412631</td>\n",
       "      <td>0.896171</td>\n",
       "      <td>0.273229</td>\n",
       "      <td>0.595249</td>\n",
       "    </tr>\n",
       "    <tr>\n",
       "      <th>6</th>\n",
       "      <td>0.549250</td>\n",
       "      <td>0.705402</td>\n",
       "      <td>0.612089</td>\n",
       "      <td>0.218436</td>\n",
       "      <td>0.322738</td>\n",
       "      <td>0.310012</td>\n",
       "    </tr>\n",
       "  </tbody>\n",
       "</table>\n",
       "</div>"
      ],
      "text/plain": [
       "    column1   column2   column3   column4   column5   column6\n",
       "1  0.892592  0.120797  0.314301  0.157931  0.162651  0.080846\n",
       "2  0.626100  0.718063  0.057885  0.493229  0.183576  0.743278\n",
       "3  0.108717  0.811415  0.581165  0.728108  0.213538  0.379810\n",
       "4  0.829063  0.819798  0.800090  0.569977  0.263192  0.824708\n",
       "5  0.491387  0.090574  0.412631  0.896171  0.273229  0.595249\n",
       "6  0.549250  0.705402  0.612089  0.218436  0.322738  0.310012"
      ]
     },
     "execution_count": 82,
     "metadata": {},
     "output_type": "execute_result"
    }
   ],
   "source": [
    "import pandas as pd\n",
    "import numpy as np\n",
    "column=[\"column1\",\"column2\",\"column3\",\"column4\",\"column5\",\"column6\"]\n",
    "indices=[1,2,3,4,5,6]\n",
    "data=pd.DataFrame(np.random.rand(6,6),columns=column,index=indices)\n",
    "data"
   ]
  },
  {
   "cell_type": "code",
   "execution_count": 90,
   "id": "7c5b1363-7bbb-4a56-8c23-563539668ac8",
   "metadata": {},
   "outputs": [
    {
     "name": "stdout",
     "output_type": "stream",
     "text": [
      "mean value of each column column1    0.582851\n",
      "column2    0.544341\n",
      "column3    0.463027\n",
      "column4    0.510642\n",
      "column5    0.236487\n",
      "column6    0.488984\n",
      "dtype: float64\n",
      "std deviation of snd column 0.34310913042673813\n"
     ]
    }
   ],
   "source": [
    "#Q4. Write a code to find the following statistical measurements for the above dataframe df1:\n",
    "#(i) mean of each and every column present in the dataframe.\n",
    "print(\"mean value of each column\",data.mean())\n",
    "#(ii) standard deviation of column, ‘column_2’\n",
    "print(\"std deviation of snd column\",data[\"column2\"].std())\n"
   ]
  },
  {
   "cell_type": "code",
   "execution_count": 102,
   "id": "f5c67243-a2d5-4286-a091-90464f7c8e2c",
   "metadata": {},
   "outputs": [
    {
     "name": "stdout",
     "output_type": "stream",
     "text": [
      "unsupported operand type(s) for +: 'float' and 'str'\n"
     ]
    }
   ],
   "source": [
    "data.loc[1,\"column2\"]=\"stringvalue\"\n",
    "try:\n",
    "    data.mean()\n",
    "except Exception as e:\n",
    "    print(e)"
   ]
  },
  {
   "cell_type": "code",
   "execution_count": 104,
   "id": "a241bdb9-7933-4993-9655-98a0f8a0c91a",
   "metadata": {},
   "outputs": [
    {
     "ename": "SyntaxError",
     "evalue": "invalid syntax (1046386387.py, line 2)",
     "output_type": "error",
     "traceback": [
      "\u001b[0;36m  Cell \u001b[0;32mIn[104], line 2\u001b[0;36m\u001b[0m\n\u001b[0;31m    Window functions allow you to perform calculations across a sliding or expanding window of data points in a DataFrame or Series.\u001b[0m\n\u001b[0m           ^\u001b[0m\n\u001b[0;31mSyntaxError\u001b[0m\u001b[0;31m:\u001b[0m invalid syntax\n"
     ]
    }
   ],
   "source": [
    "#Q6. What do you understand about the windows function in pandas and list the types of windows functions?\n",
    "Window functions allow you to perform calculations across a sliding or expanding window of data points in a DataFrame or Series. \n",
    "These functions are useful for various statistical, financial, and time series analyses, where you often need to compute metrics like \n",
    "moving averages, cumulative sums, or rolling statistics.\n",
    "\n",
    "Types of Windows Functions\n",
    "Rolling Window (rolling):\n",
    "Purpose: Performs calculations over a moving/sliding window of a fixed size.\n",
    "Common Methods:\n",
    ".mean(): Moving average\n",
    ".sum(): Moving sum\n",
    ".std(): Moving standard deviation\n",
    ".min() / .max(): Moving minimum/maximum\n",
    "Example:\n",
    "python\n",
    "Copy code\n",
    "df['rolling_mean'] = df['column'].rolling(window=3).mean()\n",
    "Expanding Window (expanding):\n",
    "Purpose: Calculates metrics by progressively expanding the window from the first data point up to the current point.\n",
    "Common Methods:\n",
    ".mean(): Expanding mean\n",
    ".sum(): Expanding sum\n",
    ".std(): Expanding standard deviation\n",
    "Example:\n",
    "python\n",
    "Copy code\n",
    "df['expanding_sum'] = df['column'].expanding().sum()\n",
    "Exponentially Weighted Window (ewm):\n",
    "Purpose: Applies exponentially decreasing weights to past observations, which gives more importance to recent data points.\n",
    "Common Methods:\n",
    ".mean(): Exponentially weighted moving average (EWMA)\n",
    ".std(): Exponentially weighted standard deviation\n",
    "Parameters:\n",
    "span: Controls the decay rate (e.g., alpha = 2 / (span + 1)).\n",
    "alpha: Specifies the smoothing factor directly.\n",
    "Example:\n",
    "python\n",
    "Copy code\n",
    "df['ewm_mean'] = df['column'].ewm(span=3).mean()\n",
    "Cumulative Window:\n",
    "Purpose: Computes cumulative metrics over the entire dataset up to each point.\n",
    "Common Methods:\n",
    ".cumsum(): Cumulative sum\n",
    ".cummax(): Cumulative maximum\n",
    ".cummin(): Cumulative minimum\n",
    ".cumprod(): Cumulative product\n",
    "Example:\n",
    "python\n",
    "Copy code\n",
    "df['cumulative_sum'] = df['column'].cumsum()\n",
    "Use Cases:\n",
    "Time Series Analysis: Calculate moving averages, rolling correlations, or other rolling statistics.\n",
    "Financial Analysis: Compute technical indicators like moving averages, Bollinger Bands, etc.\n",
    "Data Smoothing: Smooth noisy data using rolling means or EWMA.\n",
    "By using these window functions, you can extract more meaningful insights from your data, especially when working with time-dependent or sequential datasets.\n",
    "\n",
    "\n",
    "\n",
    "\n",
    "\n",
    "\n"
   ]
  },
  {
   "cell_type": "code",
   "execution_count": 118,
   "id": "08cb3e94-cbb2-4568-8d5d-22804353c678",
   "metadata": {},
   "outputs": [
    {
     "name": "stdout",
     "output_type": "stream",
     "text": [
      "Current month and year: August, 2024\n"
     ]
    }
   ],
   "source": [
    "#Q7. Write a code to print only the current month and year at the time of answering this question.\n",
    "#[Hint: Use pandas.datetime function]\n",
    "import pandas as pd\n",
    "\n",
    "# Get the current date and time\n",
    "current_timestamp = pd.Timestamp.now()\n",
    "\n",
    "# Extract the current month and year\n",
    "current_month_year = current_timestamp.strftime(\"%B, %Y\")\n",
    "\n",
    "print(\"Current month and year:\", current_month_year)\n"
   ]
  },
  {
   "cell_type": "code",
   "execution_count": 120,
   "id": "e098204b-1510-4ebf-87eb-ede446de08e0",
   "metadata": {},
   "outputs": [
    {
     "name": "stdin",
     "output_type": "stream",
     "text": [
      "Enter the first date (YYYY-MM-DD):  1999-09-13\n",
      "Enter the second date (YYYY-MM-DD):  2024-08-22\n"
     ]
    },
    {
     "name": "stdout",
     "output_type": "stream",
     "text": [
      "Difference: 9110 days, 0 hours, and 0 minutes\n"
     ]
    }
   ],
   "source": [
    "#Q8. Write a Python program that takes in two dates as input (in the format YYYY-MM-DD) and\n",
    "#calculates the difference between them in days, hours, and minutes using Pandas time delta. Theprogram should prompt the user to enter the dates and display the result.\n",
    "import pandas as pd\n",
    "\n",
    "# Function to calculate the difference between two dates\n",
    "def calculate_time_difference(date1_str, date2_str):\n",
    "    # Convert input strings to pandas Timestamps\n",
    "    date1 = pd.Timestamp(date1_str)\n",
    "    date2 = pd.Timestamp(date2_str)\n",
    "    \n",
    "    # Calculate the difference between the two dates\n",
    "    time_difference = date2 - date1\n",
    "    \n",
    "    # Extract days, hours, and minutes from the time difference\n",
    "    days = time_difference.days\n",
    "    hours = time_difference.components.hours\n",
    "    minutes = time_difference.components.minutes\n",
    "    \n",
    "    return days, hours, minutes\n",
    "\n",
    "# Prompt user to enter the two dates\n",
    "date1_input = input(\"Enter the first date (YYYY-MM-DD): \")\n",
    "date2_input = input(\"Enter the second date (YYYY-MM-DD): \")\n",
    "\n",
    "# Calculate the time difference\n",
    "days, hours, minutes = calculate_time_difference(date1_input, date2_input)\n",
    "\n",
    "# Display the result\n",
    "print(f\"Difference: {days} days, {hours} hours, and {minutes} minutes\")\n"
   ]
  },
  {
   "cell_type": "code",
   "execution_count": null,
   "id": "456907d6-f47e-4c91-aab0-30bf8f9cc4ef",
   "metadata": {},
   "outputs": [],
   "source": []
  }
 ],
 "metadata": {
  "kernelspec": {
   "display_name": "Python 3 (ipykernel)",
   "language": "python",
   "name": "python3"
  },
  "language_info": {
   "codemirror_mode": {
    "name": "ipython",
    "version": 3
   },
   "file_extension": ".py",
   "mimetype": "text/x-python",
   "name": "python",
   "nbconvert_exporter": "python",
   "pygments_lexer": "ipython3",
   "version": "3.12.4"
  }
 },
 "nbformat": 4,
 "nbformat_minor": 5
}
